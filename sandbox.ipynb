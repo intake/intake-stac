{
 "cells": [
  {
   "cell_type": "code",
   "execution_count": 1,
   "id": "b4cc257f-783c-481f-8687-8d432f496914",
   "metadata": {},
   "outputs": [
    {
     "data": {
      "text/plain": [
       "'0.3.0.post66'"
      ]
     },
     "execution_count": 1,
     "metadata": {},
     "output_type": "execute_result"
    }
   ],
   "source": [
    "import intake\n",
    "from deepdiff import DeepDiff\n",
    "import yaml\n",
    "import pystac\n",
    "import warnings\n",
    "warnings.filterwarnings('ignore')\n",
    "import intake_stac\n",
    "intake_stac.__version__"
   ]
  },
  {
   "cell_type": "code",
   "execution_count": 2,
   "id": "199a1a85-e330-47eb-bafc-9242a338aa4e",
   "metadata": {},
   "outputs": [],
   "source": [
    "item_url = str('intake_stac/tests/data/1.0.0/collection/simple-item.json')\n",
    "pystac_item = pystac.Item.from_file(item_url)\n",
    "\n",
    "cat1 = intake_stac.StacItem(pystac_item)\n",
    "cat1_str = cat1.yaml() #This is the YAML method we implemented\n",
    "\n",
    "d = yaml.load(cat1_str)"
   ]
  },
  {
   "cell_type": "code",
   "execution_count": 3,
   "id": "540f526b-ea25-462c-8dc0-d98bbe23bb88",
   "metadata": {},
   "outputs": [],
   "source": [
    "# Test Cat Item YAML\n",
    "for key in ['bbox','date','datetime','geometry','version']:\n",
    "    assert key in d['metadata']\n",
    "for key in ['B02','B03']:\n",
    "    assert key in d['sources']"
   ]
  },
  {
   "cell_type": "code",
   "execution_count": 4,
   "id": "5c8ba21d-65a4-4bef-8f36-ba3a02b707bd",
   "metadata": {},
   "outputs": [],
   "source": [
    "#Test Cat Item YAML Roundtrip\n",
    "test_file = 'test.yaml'\n",
    "with open(test_file, 'w') as f:\n",
    "    f.write(cat1_str)\n",
    "\n",
    "cat2 = intake.open_catalog(test_file)\n",
    "\n",
    "for key in ['B02','B03']:\n",
    "    assert key in cat2\n",
    "        \n",
    "#assert cat1.walk() == cat2.walk()"
   ]
  },
  {
   "cell_type": "code",
   "execution_count": 5,
   "id": "a64d1032-d94d-43c0-bc33-f2f597ed53b2",
   "metadata": {},
   "outputs": [
    {
     "name": "stdout",
     "output_type": "stream",
     "text": [
      "set()\n",
      "{}\n"
     ]
    },
    {
     "data": {
      "text/plain": [
       "False"
      ]
     },
     "execution_count": 5,
     "metadata": {},
     "output_type": "execute_result"
    }
   ],
   "source": [
    "key_diff = set(cat2.walk()) - set(cat1.walk())\n",
    "print(key_diff)\n",
    "\n",
    "value_diff = { k : cat2.walk()[k] for k in set(cat2.walk()) - set(cat1.walk()) }\n",
    "print(value_diff)\n",
    "\n",
    "cat2.walk() == cat1.walk()"
   ]
  },
  {
   "cell_type": "code",
   "execution_count": 6,
   "id": "2e341f26-961e-4917-9589-b669bb7c1b42",
   "metadata": {},
   "outputs": [
    {
     "data": {
      "text/plain": [
       "{'type_changes': {\"root['B02']\": {'old_type': intake_stac.catalog.StacAsset,\n",
       "   'new_type': intake.catalog.local.LocalCatalogEntry,\n",
       "   'old_value': name: B02\n",
       "   container: xarray\n",
       "   plugin: ['rasterio']\n",
       "   driver: ['rasterio']\n",
       "   description: Band 2 - Blue\n",
       "   direct_access: allow\n",
       "   user_parameters: []\n",
       "   metadata: \n",
       "     href: https://sentinel2l2a01.blob.core.windows.net/sentinel2-l2/17/Q/LA/2017/12/27/S2B_MSIL2A_20171227T160459_N0212_R054_T17QLA_20201014T165101.SAFE/GRANULE/L2A_T17QLA_A004227_20171227T160750/IMG_DATA/R10m/T17QLA_20171227T160459_B02_10m.tif\n",
       "     type: image/tiff; application=geotiff; profile=cloud-optimized\n",
       "     title: Band 2 - Blue\n",
       "     eo:bands: [{'name': 'B02', 'common_name': 'blue', 'description': 'Band 2 - Blue', 'center_wavelength': 0.49, 'full_width_half_max': 0.098}]\n",
       "     gsd: 10\n",
       "     proj:shape: [10980, 10980]\n",
       "     proj:bbox: [300000, 1990200, 409800, 2100000]\n",
       "     proj:transform: [10, 0, 300000, 0, -10, 2100000]\n",
       "     roles: ['data']\n",
       "     plots: \n",
       "       geotiff: \n",
       "         kind: image\n",
       "         x: x\n",
       "         y: y\n",
       "         frame_width: 500\n",
       "         data_aspect: 1\n",
       "         rasterize: True\n",
       "         dynamic: True\n",
       "         cmap: viridis\n",
       "   args: \n",
       "     urlpath: https://sentinel2l2a01.blob.core.windows.net/sentinel2-l2/17/Q/LA/2017/12/27/S2B_MSIL2A_20171227T160459_N0212_R054_T17QLA_20201014T165101.SAFE/GRANULE/L2A_T17QLA_A004227_20171227T160750/IMG_DATA/R10m/T17QLA_20171227T160459_B02_10m.tif\n",
       "     chunks: ,\n",
       "   'new_value': name: B02\n",
       "   container: xarray\n",
       "   plugin: ['rasterio']\n",
       "   driver: ['rasterio']\n",
       "   description: Band 2 - Blue\n",
       "   direct_access: allow\n",
       "   user_parameters: []\n",
       "   metadata: \n",
       "     eo:bands: [{'center_wavelength': 0.49, 'common_name': 'blue', 'description': 'Band 2 - Blue', 'full_width_half_max': 0.098, 'name': 'B02'}]\n",
       "     gsd: 10\n",
       "     href: https://sentinel2l2a01.blob.core.windows.net/sentinel2-l2/17/Q/LA/2017/12/27/S2B_MSIL2A_20171227T160459_N0212_R054_T17QLA_20201014T165101.SAFE/GRANULE/L2A_T17QLA_A004227_20171227T160750/IMG_DATA/R10m/T17QLA_20171227T160459_B02_10m.tif\n",
       "     plots: \n",
       "       geotiff: \n",
       "         cmap: viridis\n",
       "         data_aspect: 1\n",
       "         dynamic: True\n",
       "         frame_width: 500\n",
       "         kind: image\n",
       "         rasterize: True\n",
       "         x: x\n",
       "         y: y\n",
       "     proj:bbox: [300000, 1990200, 409800, 2100000]\n",
       "     proj:shape: [10980, 10980]\n",
       "     proj:transform: [10, 0, 300000, 0, -10, 2100000]\n",
       "     roles: ['data']\n",
       "     title: Band 2 - Blue\n",
       "     type: image/tiff; application=geotiff; profile=cloud-optimized\n",
       "   args: \n",
       "     chunks: \n",
       "     urlpath: https://sentinel2l2a01.blob.core.windows.net/sentinel2-l2/17/Q/LA/2017/12/27/S2B_MSIL2A_20171227T160459_N0212_R054_T17QLA_20201014T165101.SAFE/GRANULE/L2A_T17QLA_A004227_20171227T160750/IMG_DATA/R10m/T17QLA_20171227T160459_B02_10m.tif},\n",
       "  \"root['B03']\": {'old_type': intake_stac.catalog.StacAsset,\n",
       "   'new_type': intake.catalog.local.LocalCatalogEntry,\n",
       "   'old_value': name: B03\n",
       "   container: xarray\n",
       "   plugin: ['rasterio']\n",
       "   driver: ['rasterio']\n",
       "   description: Band 3 - Green\n",
       "   direct_access: allow\n",
       "   user_parameters: []\n",
       "   metadata: \n",
       "     href: https://sentinel2l2a01.blob.core.windows.net/sentinel2-l2/17/Q/LA/2017/12/27/S2B_MSIL2A_20171227T160459_N0212_R054_T17QLA_20201014T165101.SAFE/GRANULE/L2A_T17QLA_A004227_20171227T160750/IMG_DATA/R10m/T17QLA_20171227T160459_B03_10m.tif\n",
       "     type: image/tiff; application=geotiff; profile=cloud-optimized\n",
       "     title: Band 3 - Green\n",
       "     eo:bands: [{'name': 'B03', 'common_name': 'green', 'description': 'Band 3 - Green', 'center_wavelength': 0.56, 'full_width_half_max': 0.045}]\n",
       "     gsd: 10\n",
       "     proj:shape: [10980, 10980]\n",
       "     proj:bbox: [300000, 1990200, 409800, 2100000]\n",
       "     proj:transform: [10, 0, 300000, 0, -10, 2100000]\n",
       "     roles: ['data']\n",
       "     plots: \n",
       "       geotiff: \n",
       "         kind: image\n",
       "         x: x\n",
       "         y: y\n",
       "         frame_width: 500\n",
       "         data_aspect: 1\n",
       "         rasterize: True\n",
       "         dynamic: True\n",
       "         cmap: viridis\n",
       "   args: \n",
       "     urlpath: https://sentinel2l2a01.blob.core.windows.net/sentinel2-l2/17/Q/LA/2017/12/27/S2B_MSIL2A_20171227T160459_N0212_R054_T17QLA_20201014T165101.SAFE/GRANULE/L2A_T17QLA_A004227_20171227T160750/IMG_DATA/R10m/T17QLA_20171227T160459_B03_10m.tif\n",
       "     chunks: ,\n",
       "   'new_value': name: B03\n",
       "   container: xarray\n",
       "   plugin: ['rasterio']\n",
       "   driver: ['rasterio']\n",
       "   description: Band 3 - Green\n",
       "   direct_access: allow\n",
       "   user_parameters: []\n",
       "   metadata: \n",
       "     eo:bands: [{'center_wavelength': 0.56, 'common_name': 'green', 'description': 'Band 3 - Green', 'full_width_half_max': 0.045, 'name': 'B03'}]\n",
       "     gsd: 10\n",
       "     href: https://sentinel2l2a01.blob.core.windows.net/sentinel2-l2/17/Q/LA/2017/12/27/S2B_MSIL2A_20171227T160459_N0212_R054_T17QLA_20201014T165101.SAFE/GRANULE/L2A_T17QLA_A004227_20171227T160750/IMG_DATA/R10m/T17QLA_20171227T160459_B03_10m.tif\n",
       "     plots: \n",
       "       geotiff: \n",
       "         cmap: viridis\n",
       "         data_aspect: 1\n",
       "         dynamic: True\n",
       "         frame_width: 500\n",
       "         kind: image\n",
       "         rasterize: True\n",
       "         x: x\n",
       "         y: y\n",
       "     proj:bbox: [300000, 1990200, 409800, 2100000]\n",
       "     proj:shape: [10980, 10980]\n",
       "     proj:transform: [10, 0, 300000, 0, -10, 2100000]\n",
       "     roles: ['data']\n",
       "     title: Band 3 - Green\n",
       "     type: image/tiff; application=geotiff; profile=cloud-optimized\n",
       "   args: \n",
       "     chunks: \n",
       "     urlpath: https://sentinel2l2a01.blob.core.windows.net/sentinel2-l2/17/Q/LA/2017/12/27/S2B_MSIL2A_20171227T160459_N0212_R054_T17QLA_20201014T165101.SAFE/GRANULE/L2A_T17QLA_A004227_20171227T160750/IMG_DATA/R10m/T17QLA_20171227T160459_B03_10m.tif}}}"
      ]
     },
     "execution_count": 6,
     "metadata": {},
     "output_type": "execute_result"
    }
   ],
   "source": [
    "diff = DeepDiff(cat1.walk(), cat2.walk())\n",
    "diff"
   ]
  },
  {
   "cell_type": "code",
   "execution_count": 10,
   "id": "89efe5c9-d821-474e-9e32-3234f7df3acc",
   "metadata": {},
   "outputs": [
    {
     "data": {
      "text/plain": [
       "intake_xarray.raster.RasterIOSource"
      ]
     },
     "execution_count": 10,
     "metadata": {},
     "output_type": "execute_result"
    }
   ],
   "source": [
    "type(cat1['B02'])"
   ]
  },
  {
   "cell_type": "code",
   "execution_count": 11,
   "id": "07ec36b4-c47f-4f70-8949-b3100718d5e7",
   "metadata": {},
   "outputs": [
    {
     "data": {
      "text/plain": [
       "intake_xarray.raster.RasterIOSource"
      ]
     },
     "execution_count": 11,
     "metadata": {},
     "output_type": "execute_result"
    }
   ],
   "source": [
    "type(cat2['B02'])"
   ]
  },
  {
   "cell_type": "code",
   "execution_count": null,
   "id": "7d724f2d-eab6-4aa5-bb31-2f642a1a3fb7",
   "metadata": {},
   "outputs": [],
   "source": []
  }
 ],
 "metadata": {
  "kernelspec": {
   "display_name": "Python [conda env:intake_stac] *",
   "language": "python",
   "name": "conda-env-intake_stac-py"
  },
  "language_info": {
   "codemirror_mode": {
    "name": "ipython",
    "version": 3
   },
   "file_extension": ".py",
   "mimetype": "text/x-python",
   "name": "python",
   "nbconvert_exporter": "python",
   "pygments_lexer": "ipython3",
   "version": "3.9.6"
  }
 },
 "nbformat": 4,
 "nbformat_minor": 5
}
