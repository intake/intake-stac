{
 "cells": [
  {
   "cell_type": "code",
   "execution_count": 1,
   "id": "b4cc257f-783c-481f-8687-8d432f496914",
   "metadata": {},
   "outputs": [
    {
     "name": "stdout",
     "output_type": "stream",
     "text": [
      "Obtaining file:///Users/jkent/Documents/intake-stac\n",
      "  Installing build dependencies ... \u001b[?25ldone\n",
      "\u001b[?25h  Getting requirements to build wheel ... \u001b[?25ldone\n",
      "\u001b[?25h  Installing backend dependencies ... \u001b[?25ldone\n",
      "\u001b[?25h    Preparing wheel metadata ... \u001b[?25ldone\n",
      "\u001b[?25hRequirement already satisfied: intake-xarray>=0.4 in /Users/jkent/miniconda3/envs/intake_stac/lib/python3.9/site-packages (from intake-stac==0.3.0.post80+dirty) (0.5.0)\n",
      "Requirement already satisfied: fsspec>=0.8.4 in /Users/jkent/miniconda3/envs/intake_stac/lib/python3.9/site-packages (from intake-stac==0.3.0.post80+dirty) (2021.8.1)\n",
      "Requirement already satisfied: intake>=0.5.1 in /Users/jkent/miniconda3/envs/intake_stac/lib/python3.9/site-packages (from intake-stac==0.3.0.post80+dirty) (0.6.3)\n",
      "Requirement already satisfied: pystac>=1.0.0 in /Users/jkent/miniconda3/envs/intake_stac/lib/python3.9/site-packages (from intake-stac==0.3.0.post80+dirty) (1.1.0)\n",
      "Requirement already satisfied: entrypoints in /Users/jkent/miniconda3/envs/intake_stac/lib/python3.9/site-packages (from intake>=0.5.1->intake-stac==0.3.0.post80+dirty) (0.3)\n",
      "Requirement already satisfied: dask in /Users/jkent/miniconda3/envs/intake_stac/lib/python3.9/site-packages (from intake>=0.5.1->intake-stac==0.3.0.post80+dirty) (2021.8.1)\n",
      "Requirement already satisfied: jinja2 in /Users/jkent/miniconda3/envs/intake_stac/lib/python3.9/site-packages (from intake>=0.5.1->intake-stac==0.3.0.post80+dirty) (3.0.1)\n",
      "Requirement already satisfied: appdirs in /Users/jkent/miniconda3/envs/intake_stac/lib/python3.9/site-packages (from intake>=0.5.1->intake-stac==0.3.0.post80+dirty) (1.4.4)\n",
      "Requirement already satisfied: pyyaml in /Users/jkent/miniconda3/envs/intake_stac/lib/python3.9/site-packages (from intake>=0.5.1->intake-stac==0.3.0.post80+dirty) (5.4.1)\n",
      "Requirement already satisfied: requests in /Users/jkent/miniconda3/envs/intake_stac/lib/python3.9/site-packages (from intake-xarray>=0.4->intake-stac==0.3.0.post80+dirty) (2.26.0)\n",
      "Requirement already satisfied: xarray>=0.17.0 in /Users/jkent/miniconda3/envs/intake_stac/lib/python3.9/site-packages (from intake-xarray>=0.4->intake-stac==0.3.0.post80+dirty) (0.19.0)\n",
      "Requirement already satisfied: zarr in /Users/jkent/miniconda3/envs/intake_stac/lib/python3.9/site-packages (from intake-xarray>=0.4->intake-stac==0.3.0.post80+dirty) (2.9.4)\n",
      "Requirement already satisfied: msgpack in /Users/jkent/miniconda3/envs/intake_stac/lib/python3.9/site-packages (from intake-xarray>=0.4->intake-stac==0.3.0.post80+dirty) (1.0.2)\n",
      "Requirement already satisfied: netcdf4 in /Users/jkent/miniconda3/envs/intake_stac/lib/python3.9/site-packages (from intake-xarray>=0.4->intake-stac==0.3.0.post80+dirty) (1.5.7)\n",
      "Requirement already satisfied: packaging>=20.0 in /Users/jkent/miniconda3/envs/intake_stac/lib/python3.9/site-packages (from dask->intake>=0.5.1->intake-stac==0.3.0.post80+dirty) (21.0)\n",
      "Requirement already satisfied: toolz>=0.8.2 in /Users/jkent/miniconda3/envs/intake_stac/lib/python3.9/site-packages (from dask->intake>=0.5.1->intake-stac==0.3.0.post80+dirty) (0.11.1)\n",
      "Requirement already satisfied: partd>=0.3.10 in /Users/jkent/miniconda3/envs/intake_stac/lib/python3.9/site-packages (from dask->intake>=0.5.1->intake-stac==0.3.0.post80+dirty) (1.2.0)\n",
      "Requirement already satisfied: cloudpickle>=1.1.1 in /Users/jkent/miniconda3/envs/intake_stac/lib/python3.9/site-packages (from dask->intake>=0.5.1->intake-stac==0.3.0.post80+dirty) (1.6.0)\n",
      "Requirement already satisfied: pyparsing>=2.0.2 in /Users/jkent/miniconda3/envs/intake_stac/lib/python3.9/site-packages (from packaging>=20.0->dask->intake>=0.5.1->intake-stac==0.3.0.post80+dirty) (2.4.7)\n",
      "Requirement already satisfied: locket in /Users/jkent/miniconda3/envs/intake_stac/lib/python3.9/site-packages (from partd>=0.3.10->dask->intake>=0.5.1->intake-stac==0.3.0.post80+dirty) (0.2.1)\n",
      "Requirement already satisfied: python-dateutil>=2.7.0 in /Users/jkent/miniconda3/envs/intake_stac/lib/python3.9/site-packages (from pystac>=1.0.0->intake-stac==0.3.0.post80+dirty) (2.8.2)\n",
      "Requirement already satisfied: six>=1.5 in /Users/jkent/miniconda3/envs/intake_stac/lib/python3.9/site-packages (from python-dateutil>=2.7.0->pystac>=1.0.0->intake-stac==0.3.0.post80+dirty) (1.16.0)\n",
      "Requirement already satisfied: setuptools>=40.4 in /Users/jkent/miniconda3/envs/intake_stac/lib/python3.9/site-packages (from xarray>=0.17.0->intake-xarray>=0.4->intake-stac==0.3.0.post80+dirty) (57.4.0)\n",
      "Requirement already satisfied: numpy>=1.17 in /Users/jkent/miniconda3/envs/intake_stac/lib/python3.9/site-packages (from xarray>=0.17.0->intake-xarray>=0.4->intake-stac==0.3.0.post80+dirty) (1.21.2)\n",
      "Requirement already satisfied: pandas>=1.0 in /Users/jkent/miniconda3/envs/intake_stac/lib/python3.9/site-packages (from xarray>=0.17.0->intake-xarray>=0.4->intake-stac==0.3.0.post80+dirty) (1.3.2)\n",
      "Requirement already satisfied: pytz>=2017.3 in /Users/jkent/miniconda3/envs/intake_stac/lib/python3.9/site-packages (from pandas>=1.0->xarray>=0.17.0->intake-xarray>=0.4->intake-stac==0.3.0.post80+dirty) (2021.1)\n",
      "Requirement already satisfied: MarkupSafe>=2.0 in /Users/jkent/miniconda3/envs/intake_stac/lib/python3.9/site-packages (from jinja2->intake>=0.5.1->intake-stac==0.3.0.post80+dirty) (2.0.1)\n",
      "Requirement already satisfied: cftime in /Users/jkent/miniconda3/envs/intake_stac/lib/python3.9/site-packages (from netcdf4->intake-xarray>=0.4->intake-stac==0.3.0.post80+dirty) (1.5.0)\n",
      "Requirement already satisfied: charset-normalizer~=2.0.0 in /Users/jkent/miniconda3/envs/intake_stac/lib/python3.9/site-packages (from requests->intake-xarray>=0.4->intake-stac==0.3.0.post80+dirty) (2.0.0)\n",
      "Requirement already satisfied: urllib3<1.27,>=1.21.1 in /Users/jkent/miniconda3/envs/intake_stac/lib/python3.9/site-packages (from requests->intake-xarray>=0.4->intake-stac==0.3.0.post80+dirty) (1.26.6)\n",
      "Requirement already satisfied: certifi>=2017.4.17 in /Users/jkent/miniconda3/envs/intake_stac/lib/python3.9/site-packages (from requests->intake-xarray>=0.4->intake-stac==0.3.0.post80+dirty) (2021.5.30)\n",
      "Requirement already satisfied: idna<4,>=2.5 in /Users/jkent/miniconda3/envs/intake_stac/lib/python3.9/site-packages (from requests->intake-xarray>=0.4->intake-stac==0.3.0.post80+dirty) (3.1)\n",
      "Requirement already satisfied: asciitree in /Users/jkent/miniconda3/envs/intake_stac/lib/python3.9/site-packages (from zarr->intake-xarray>=0.4->intake-stac==0.3.0.post80+dirty) (0.3.3)\n",
      "Requirement already satisfied: numcodecs>=0.6.4 in /Users/jkent/miniconda3/envs/intake_stac/lib/python3.9/site-packages (from zarr->intake-xarray>=0.4->intake-stac==0.3.0.post80+dirty) (0.9.0)\n",
      "Requirement already satisfied: fasteners in /Users/jkent/miniconda3/envs/intake_stac/lib/python3.9/site-packages (from zarr->intake-xarray>=0.4->intake-stac==0.3.0.post80+dirty) (0.16.3)\n",
      "Installing collected packages: intake-stac\n",
      "  Attempting uninstall: intake-stac\n",
      "    Found existing installation: intake-stac 0.3.0.post80+dirty\n",
      "    Uninstalling intake-stac-0.3.0.post80+dirty:\n",
      "      Successfully uninstalled intake-stac-0.3.0.post80+dirty\n",
      "  Running setup.py develop for intake-stac\n",
      "Successfully installed intake-stac-0.3.0.post80+dirty\n",
      "Note: you may need to restart the kernel to use updated packages.\n"
     ]
    }
   ],
   "source": [
    "pip install -e ."
   ]
  },
  {
   "cell_type": "code",
   "execution_count": 2,
   "id": "c591582c-3754-4a3d-9eaf-7181d07f44c8",
   "metadata": {},
   "outputs": [
    {
     "data": {
      "text/plain": [
       "'0.3.0.post80+dirty'"
      ]
     },
     "execution_count": 2,
     "metadata": {},
     "output_type": "execute_result"
    }
   ],
   "source": [
    "import intake\n",
    "from deepdiff import DeepDiff\n",
    "import yaml\n",
    "import pystac\n",
    "import warnings\n",
    "warnings.filterwarnings('ignore')\n",
    "import intake_stac\n",
    "intake_stac.__version__"
   ]
  },
  {
   "cell_type": "code",
   "execution_count": 3,
   "id": "199a1a85-e330-47eb-bafc-9242a338aa4e",
   "metadata": {},
   "outputs": [],
   "source": [
    "item_url = str('intake_stac/tests/data/1.0.0/collection/simple-item.json')\n",
    "pystac_item = pystac.Item.from_file(item_url)\n",
    "\n",
    "cat1 = intake_stac.StacItem(pystac_item)\n",
    "cat1_str = cat1.yaml() #This is the YAML method we implemented\n",
    "\n",
    "d = yaml.load(cat1_str)"
   ]
  },
  {
   "cell_type": "code",
   "execution_count": 4,
   "id": "540f526b-ea25-462c-8dc0-d98bbe23bb88",
   "metadata": {},
   "outputs": [],
   "source": [
    "# Test Cat Item YAML\n",
    "for key in ['bbox','date','datetime','geometry']: #,'version']:\n",
    "    assert key in d['metadata']\n",
    "for key in ['B02','B03']:\n",
    "    assert key in d['sources']"
   ]
  },
  {
   "cell_type": "code",
   "execution_count": 5,
   "id": "5c8ba21d-65a4-4bef-8f36-ba3a02b707bd",
   "metadata": {},
   "outputs": [
    {
     "name": "stdout",
     "output_type": "stream",
     "text": [
      "{'href': 'https://sentinel2l2a01.blob.core.windows.net/sentinel2-l2/17/Q/LA/2017/12/27/S2B_MSIL2A_20171227T160459_N0212_R054_T17QLA_20201014T165101.SAFE/GRANULE/L2A_T17QLA_A004227_20171227T160750/IMG_DATA/R10m/T17QLA_20171227T160459_B02_10m.tif', 'type': 'image/tiff; application=geotiff; profile=cloud-optimized', 'title': 'Band 2 - Blue', 'eo:bands': [{'name': 'B02', 'common_name': 'blue', 'description': 'Band 2 - Blue', 'center_wavelength': 0.49, 'full_width_half_max': 0.098}], 'gsd': 10, 'proj:shape': [10980, 10980], 'proj:bbox': [300000, 1990200, 409800, 2100000], 'proj:transform': [10, 0, 300000, 0, -10, 2100000], 'roles': ['data'], 'plots': {'geotiff': {'kind': 'image', 'x': 'x', 'y': 'y', 'frame_width': 500, 'data_aspect': 1, 'rasterize': True, 'dynamic': True, 'cmap': 'viridis'}}} {'eo:bands': [{'center_wavelength': 0.49, 'common_name': 'blue', 'description': 'Band 2 - Blue', 'full_width_half_max': 0.098, 'name': 'B02'}], 'gsd': 10, 'href': 'https://sentinel2l2a01.blob.core.windows.net/sentinel2-l2/17/Q/LA/2017/12/27/S2B_MSIL2A_20171227T160459_N0212_R054_T17QLA_20201014T165101.SAFE/GRANULE/L2A_T17QLA_A004227_20171227T160750/IMG_DATA/R10m/T17QLA_20171227T160459_B02_10m.tif', 'plots': {'geotiff': {'cmap': 'viridis', 'data_aspect': 1, 'dynamic': True, 'frame_width': 500, 'kind': 'image', 'rasterize': True, 'x': 'x', 'y': 'y'}}, 'proj:bbox': [300000, 1990200, 409800, 2100000], 'proj:shape': [10980, 10980], 'proj:transform': [10, 0, 300000, 0, -10, 2100000], 'roles': ['data'], 'title': 'Band 2 - Blue', 'type': 'image/tiff; application=geotiff; profile=cloud-optimized', 'catalog_dir': '/Users/jkent/Documents/intake-stac/'}\n"
     ]
    },
    {
     "ename": "AssertionError",
     "evalue": "None",
     "output_type": "error",
     "traceback": [
      "\u001b[0;31m---------------------------------------------------------------------------\u001b[0m",
      "\u001b[0;31mAssertionError\u001b[0m                            Traceback (most recent call last)",
      "\u001b[0;32m/var/folders/dd/_xm_pbpd3flgbvbnt7qhd70snnbpj_/T/ipykernel_14755/3059391732.py\u001b[0m in \u001b[0;36m<module>\u001b[0;34m\u001b[0m\n\u001b[1;32m     19\u001b[0m \u001b[0;34m\u001b[0m\u001b[0m\n\u001b[1;32m     20\u001b[0m     \u001b[0;31m#cat2[k].metadata.pop('catalog_dir', None)\u001b[0m\u001b[0;34m\u001b[0m\u001b[0;34m\u001b[0m\u001b[0;34m\u001b[0m\u001b[0m\n\u001b[0;32m---> 21\u001b[0;31m     \u001b[0;32massert\u001b[0m \u001b[0mset\u001b[0m\u001b[0;34m(\u001b[0m\u001b[0mcat1\u001b[0m\u001b[0;34m[\u001b[0m\u001b[0mk\u001b[0m\u001b[0;34m]\u001b[0m\u001b[0;34m.\u001b[0m\u001b[0mmetadata\u001b[0m\u001b[0;34m)\u001b[0m \u001b[0;34m==\u001b[0m \u001b[0mset\u001b[0m\u001b[0;34m(\u001b[0m\u001b[0mcat2\u001b[0m\u001b[0;34m[\u001b[0m\u001b[0mk\u001b[0m\u001b[0;34m]\u001b[0m\u001b[0;34m.\u001b[0m\u001b[0mmetadata\u001b[0m\u001b[0;34m)\u001b[0m\u001b[0;34m,\u001b[0m \u001b[0mprint\u001b[0m\u001b[0;34m(\u001b[0m\u001b[0mcat1\u001b[0m\u001b[0;34m[\u001b[0m\u001b[0mk\u001b[0m\u001b[0;34m]\u001b[0m\u001b[0;34m.\u001b[0m\u001b[0mmetadata\u001b[0m\u001b[0;34m,\u001b[0m \u001b[0mcat2\u001b[0m\u001b[0;34m[\u001b[0m\u001b[0mk\u001b[0m\u001b[0;34m]\u001b[0m\u001b[0;34m.\u001b[0m\u001b[0mmetadata\u001b[0m\u001b[0;34m)\u001b[0m\u001b[0;34m\u001b[0m\u001b[0;34m\u001b[0m\u001b[0m\n\u001b[0m\u001b[1;32m     22\u001b[0m     \u001b[0;32mfor\u001b[0m \u001b[0mj\u001b[0m \u001b[0;32min\u001b[0m \u001b[0mset\u001b[0m\u001b[0;34m(\u001b[0m\u001b[0mcat2\u001b[0m\u001b[0;34m[\u001b[0m\u001b[0mk\u001b[0m\u001b[0;34m]\u001b[0m\u001b[0;34m.\u001b[0m\u001b[0mmetadata\u001b[0m\u001b[0;34m)\u001b[0m\u001b[0;34m:\u001b[0m\u001b[0;34m\u001b[0m\u001b[0;34m\u001b[0m\u001b[0m\n\u001b[1;32m     23\u001b[0m         \u001b[0;32mif\u001b[0m \u001b[0mj\u001b[0m \u001b[0;34m==\u001b[0m \u001b[0;34m'catalog_dir'\u001b[0m\u001b[0;34m:\u001b[0m\u001b[0;34m\u001b[0m\u001b[0;34m\u001b[0m\u001b[0m\n",
      "\u001b[0;31mAssertionError\u001b[0m: None"
     ]
    }
   ],
   "source": [
    "#Test Cat Item YAML Roundtrip\n",
    "test_file = 'test.yaml'\n",
    "with open(test_file, 'w') as f:\n",
    "    f.write(cat1_str)\n",
    "\n",
    "cat2 = intake.open_catalog(test_file)\n",
    "\n",
    "for key in ['B02','B03']:\n",
    "    assert key in cat2\n",
    "        \n",
    "assert cat1.metadata == cat2.metadata\n",
    "assert set(cat1.walk()) == set(cat2.walk())\n",
    "\n",
    "keys = ['B02', 'B03']\n",
    "for k in keys:\n",
    "    assert k in cat1\n",
    "    assert k in cat2\n",
    "    assert type(cat1[k]) == type(cat2[k])\n",
    "\n",
    "    #cat2[k].metadata.pop('catalog_dir', None)\n",
    "    assert set(cat1[k].metadata) == set(cat2[k].metadata), print(cat1[k].metadata, cat2[k].metadata)\n",
    "    for j in set(cat2[k].metadata):\n",
    "        if j == 'catalog_dir':\n",
    "            continue\n",
    "        assert cat1[k].metadata[j] == cat1[k].metadata[j]\n",
    "\n",
    "    assert set(cat1[k].describe()) == set(cat2[k].describe())\n",
    "    for j in set(cat1[k].describe()):\n",
    "        assert cat1[k].describe()[j] == cat2[k].describe()[j]\n",
    "\n",
    "    assert set(cat1.walk()[k].describe()) == set(cat2.walk()[k].describe())\n",
    "    for j in set(cat1.walk()[k].describe()):\n",
    "        assert cat1.walk()[k].describe()[j] == cat2.walk()[k].describe()[j]"
   ]
  },
  {
   "cell_type": "code",
   "execution_count": 9,
   "id": "a64d1032-d94d-43c0-bc33-f2f597ed53b2",
   "metadata": {},
   "outputs": [
    {
     "name": "stdout",
     "output_type": "stream",
     "text": [
      "set()\n",
      "{}\n"
     ]
    },
    {
     "data": {
      "text/plain": [
       "False"
      ]
     },
     "execution_count": 9,
     "metadata": {},
     "output_type": "execute_result"
    }
   ],
   "source": [
    "key_diff = set(cat2.walk()) - set(cat1.walk())\n",
    "print(key_diff)\n",
    "\n",
    "value_diff = { k : cat2.walk()[k] for k in set(cat2.walk()) - set(cat1.walk()) }\n",
    "print(value_diff)\n",
    "\n",
    "cat2.walk() == cat1.walk()\n",
    "\n",
    "#diff = DeepDiff(cat1.walk(), cat2.walk())\n",
    "#diff\n",
    "\n",
    "#type(cat1['B02'])\n",
    "#type(cat2['B02'])\n",
    "#type(cat1.walk()['B02'])\n",
    "#type(cat2.walk()['B02'])"
   ]
  },
  {
   "cell_type": "code",
   "execution_count": 6,
   "id": "21f0eef9-65c4-4679-b8e5-fbcc06cd9943",
   "metadata": {},
   "outputs": [
    {
     "name": "stdout",
     "output_type": "stream",
     "text": [
      "{'roles', 'proj:bbox', 'title', 'catalog_dir', 'plots', 'href', 'proj:transform', 'type', 'gsd', 'eo:bands', 'proj:shape'}\n",
      "{'roles', 'proj:bbox', 'title', 'catalog_dir', 'plots', 'href', 'proj:transform', 'type', 'gsd', 'eo:bands', 'proj:shape'}\n"
     ]
    }
   ],
   "source": [
    "#cat1['B02'].metadata == cat2['B02'].metadata # False\n",
    "assert set(cat1['B03'].metadata) == set(cat2['B03'].metadata)\n",
    "\n",
    "print(set(cat1['B03'].metadata)) \n",
    "print(set(cat2['B03'].metadata)) \n",
    "\n",
    "#cat1['B02'].metadata['catalog_dir'] == cat2['B02'].metadata['catalog_dir'] # False\n",
    "#print(cat1['B02'].metadata['catalog_dir']) # ''\n",
    "#print(cat2['B02'].metadata['catalog_dir']) # /Users/jkent/Documents/intake-stac/\n",
    "\n",
    "#for j in set(cat1['B02'].metadata):\n",
    "#    print(j)"
   ]
  },
  {
   "cell_type": "code",
   "execution_count": null,
   "id": "d44a3b4b-fc94-41e0-abf7-36727534e0f9",
   "metadata": {},
   "outputs": [],
   "source": []
  }
 ],
 "metadata": {
  "kernelspec": {
   "display_name": "Python [conda env:intake_stac] *",
   "language": "python",
   "name": "conda-env-intake_stac-py"
  },
  "language_info": {
   "codemirror_mode": {
    "name": "ipython",
    "version": 3
   },
   "file_extension": ".py",
   "mimetype": "text/x-python",
   "name": "python",
   "nbconvert_exporter": "python",
   "pygments_lexer": "ipython3",
   "version": "3.9.6"
  }
 },
 "nbformat": 4,
 "nbformat_minor": 5
}
