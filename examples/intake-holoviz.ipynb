{
 "cells": [
  {
   "cell_type": "markdown",
   "metadata": {},
   "source": [
    "# Intake-STAC + Holoviz Visualizations\n",
    "\n",
    "Intake-STAC takes advantage of Intake's built-in graphical user-interface (GUI), which can browse catalogs and display pre-defined interactive plots of assets. This interface is built using the [Panel](https://panel.holoviz.org) library, which is part of the [Holoviz](https://holoviz.org) collection of libraries for browser-based visualizations in Python."
   ]
  },
  {
   "cell_type": "code",
   "execution_count": null,
   "metadata": {},
   "outputs": [],
   "source": [
    "%matplotlib inline\n",
    "import intake"
   ]
  },
  {
   "cell_type": "code",
   "execution_count": null,
   "metadata": {},
   "outputs": [],
   "source": [
    "# Load results from previous satsearch (see examples/aws-earth-search.ipynb )\n",
    "from satstac import ItemCollection\n",
    "items = ItemCollection.open('my-s2-l2a-cogs.json')"
   ]
  },
  {
   "cell_type": "markdown",
   "metadata": {},
   "source": [
    "# Intake-STAC built-in GUI\n",
    "\n",
    "Currently you can choose a `thumbnail` plot for RGB thumbs. Or a `geotiff` plot for dynamically-updating full resultion single band images (Warning, currently initializing plot can be slow for large geotiffs, likely can improve this in the future!)."
   ]
  },
  {
   "cell_type": "code",
   "execution_count": null,
   "metadata": {},
   "outputs": [],
   "source": [
    "catalog = intake.open_stac_item_collection(items)"
   ]
  },
  {
   "cell_type": "code",
   "execution_count": null,
   "metadata": {},
   "outputs": [],
   "source": [
    "# NOTE: import statement required for dynamic=True\n",
    "import hvplot.xarray\n",
    "intake.gui.add(catalog)\n",
    "intake.gui"
   ]
  },
  {
   "cell_type": "code",
   "execution_count": null,
   "metadata": {},
   "outputs": [],
   "source": [
    "# Here's how you would load plots outside of the GUI\n",
    "item = catalog['S2A_36MYB_20200814_0_L2A']\n",
    "thumb = item['thumbnail']\n",
    "da = thumb.to_dask()\n",
    "da.hvplot.rgb(x='x', y='y', bands='channel',\n",
    "              title=item.name,\n",
    "              data_aspect=1, flip_yaxis=True, xaxis=False, yaxis=None)"
   ]
  },
  {
   "cell_type": "code",
   "execution_count": null,
   "metadata": {},
   "outputs": [],
   "source": [
    "# Interactive plot with hvplot and datashader (dynamically-updated resolution)\n",
    "da = item['B06'].to_dask()\n",
    "da.sel(band=1).hvplot.image(x='x', y='y',\n",
    "                title=f\"{item.name} - {item['B06'].description}\",\n",
    "                rasterize=True, dynamic=True,\n",
    "                frame_width=500, data_aspect=1)"
   ]
  },
  {
   "cell_type": "markdown",
   "metadata": {},
   "source": [
    "## ipywidgets\n",
    "\n",
    "[ipywidgets](https://ipywidgets.readthedocs.io/en/stable/) provide another convenient approach to custom visualizations. The function below allows us to browse through all the image thumbnails for a group of images."
   ]
  },
  {
   "cell_type": "code",
   "execution_count": null,
   "metadata": {},
   "outputs": [],
   "source": [
    "from ipywidgets import interact\n",
    "from IPython.display import display, Image\n",
    "\n",
    "def browse_images(items):\n",
    "    n = len(items)\n",
    "\n",
    "    def view_image(i=0):\n",
    "        item = items[i]\n",
    "        print(f\"id={item.id}\\tdate={item.datetime}\\tcloud%={item['eo:cloud_cover']}\")\n",
    "        display(Image(item.asset('thumbnail')['href']))\n",
    "    \n",
    "    interact(view_image, i=(0,n-1))\n",
    "\n",
    "browse_images(items)"
   ]
  }
 ],
 "metadata": {
  "kernelspec": {
   "display_name": "Python 3",
   "language": "python",
   "name": "python3"
  },
  "language_info": {
   "codemirror_mode": {
    "name": "ipython",
    "version": 3
   },
   "file_extension": ".py",
   "mimetype": "text/x-python",
   "name": "python",
   "nbconvert_exporter": "python",
   "pygments_lexer": "ipython3",
   "version": "3.7.8"
  }
 },
 "nbformat": 4,
 "nbformat_minor": 4
}
