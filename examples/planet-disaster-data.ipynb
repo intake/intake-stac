{
 "cells": [
  {
   "cell_type": "markdown",
   "metadata": {},
   "source": [
    "Intake-STAC + Planetscope\n",
    "================\n",
    "\n",
    "In this notebook, we'll take a look at some of the functionality in Intake-STAC by exploring STAC catalogs such as the open-access [Planet Disaster data catalog](https://planet.stac.cloud/?t=catalogs) hosted at https://raw.githubusercontent.com/cholmes/sample-stac/master/stac/catalog.json.\n",
    "\n",
    "STAC metadata is organized into a hierarchy of **Catalogs, Collections, and Items**. Items ultimately hold *Assets* which are data files such as satellite raster images. Ultimately the goal of intake-STAC is to facilitate loading these *Assets* directly into Python objects for interactive computation without worrying about filepaths and URLs."
   ]
  },
  {
   "cell_type": "code",
   "execution_count": null,
   "metadata": {},
   "outputs": [],
   "source": [
    "%matplotlib inline\n",
    "import intake"
   ]
  },
  {
   "cell_type": "code",
   "execution_count": null,
   "metadata": {},
   "outputs": [],
   "source": [
    "# intake checks for registered drivers when imported\n",
    "# You should see 'stac_catalog, stac_collection, stac_item, and stac_item_collection' if intake-stac is installed\n",
    "list(intake.registry)"
   ]
  },
  {
   "cell_type": "markdown",
   "metadata": {},
   "source": [
    "## Catalog adapter\n",
    "\n",
    "We'll start by connecting to the STAC Catalog for `planet-disaster-data`. We read the top-level `catalog.json` file and drill down until we get to specific STAC Items."
   ]
  },
  {
   "cell_type": "code",
   "execution_count": null,
   "metadata": {},
   "outputs": [],
   "source": [
    "# Load root catalog\n",
    "url = 'https://raw.githubusercontent.com/cholmes/sample-stac/master/stac/catalog.json'\n",
    "cat = intake.open_stac_catalog(url)\n",
    "print(cat.name)\n",
    "\n",
    "# This lists available subcatalogs:\n",
    "list(cat)"
   ]
  },
  {
   "cell_type": "code",
   "execution_count": null,
   "metadata": {},
   "outputs": [],
   "source": [
    "# STAC files are in JSON format, which is accessible as Python dictionaries:\n",
    "cat.metadata"
   ]
  },
  {
   "cell_type": "code",
   "execution_count": null,
   "metadata": {},
   "outputs": [],
   "source": [
    "# Drill down into subcatalogs\n",
    "subcat = cat['hurricane-harvey']\n",
    "list(subcat)"
   ]
  },
  {
   "cell_type": "code",
   "execution_count": null,
   "metadata": {},
   "outputs": [],
   "source": [
    "# Another subcatalog!\n",
    "subcat1 = subcat['hurricane-harvey-0831']\n",
    "list(subcat1)"
   ]
  },
  {
   "cell_type": "code",
   "execution_count": null,
   "metadata": {},
   "outputs": [],
   "source": [
    "# Load a STAC Item\n",
    "item = subcat1['Houston-East-20170831-103f-100d-0f4f-RGB']"
   ]
  },
  {
   "cell_type": "code",
   "execution_count": null,
   "metadata": {},
   "outputs": [],
   "source": [
    "item.metadata"
   ]
  },
  {
   "cell_type": "code",
   "execution_count": null,
   "metadata": {},
   "outputs": [],
   "source": [
    "# Item Assets are accessible via lists just like subcatalogs:\n",
    "list(item)"
   ]
  },
  {
   "cell_type": "code",
   "execution_count": null,
   "metadata": {},
   "outputs": [],
   "source": [
    "item['thumbnail'].metadata"
   ]
  },
  {
   "cell_type": "code",
   "execution_count": null,
   "metadata": {},
   "outputs": [],
   "source": [
    "# Finally we can display an image!\n",
    "from IPython.display import Image\n",
    "Image(item['thumbnail'].urlpath)"
   ]
  },
  {
   "cell_type": "code",
   "execution_count": null,
   "metadata": {},
   "outputs": [],
   "source": [
    "# Or we can load the image directly into Xarray for analysis\n",
    "# The full resolution image is big, but we use dask behind the scenes to only read metadata at first\n",
    "asset = item['mosaic']\n",
    "da = asset.to_dask()\n",
    "da"
   ]
  },
  {
   "cell_type": "code",
   "execution_count": null,
   "metadata": {},
   "outputs": [],
   "source": [
    "# The chunk structure isn't set by default\n",
    "# setting a chunk structure makes operating on subsets of pixels more efficient\n",
    "da = da.chunk(dict(band=1, x=2560, y=2560))\n",
    "da"
   ]
  },
  {
   "cell_type": "code",
   "execution_count": null,
   "metadata": {},
   "outputs": [],
   "source": [
    "da.isel(band=0, x=slice(0, 2560), y=slice(0, 1280)).plot.imshow()"
   ]
  },
  {
   "cell_type": "code",
   "execution_count": null,
   "metadata": {},
   "outputs": [],
   "source": []
  }
 ],
 "metadata": {
  "kernelspec": {
   "display_name": "Python 3",
   "language": "python",
   "name": "python3"
  },
  "language_info": {
   "codemirror_mode": {
    "name": "ipython",
    "version": 3
   },
   "file_extension": ".py",
   "mimetype": "text/x-python",
   "name": "python",
   "nbconvert_exporter": "python",
   "pygments_lexer": "ipython3",
   "version": "3.7.8"
  }
 },
 "nbformat": 4,
 "nbformat_minor": 4
}
