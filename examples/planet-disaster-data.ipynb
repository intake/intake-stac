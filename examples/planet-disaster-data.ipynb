{
 "cells": [
  {
   "cell_type": "markdown",
   "metadata": {},
   "source": [
    "Examples using STAC with Intake\n",
    "================\n",
    "\n",
    "In this notebook, we'll take a look at some of the functionality in Intake-STAC by exploring the [Planet Disaster data catalog](https://planet.stac.cloud/?t=catalogs)."
   ]
  },
  {
   "cell_type": "code",
   "execution_count": null,
   "metadata": {},
   "outputs": [],
   "source": [
    "%matplotlib inline\n",
    "\n",
    "from pprint import pprint\n",
    "\n",
    "from intake_stac import StacCatalog"
   ]
  },
  {
   "cell_type": "markdown",
   "metadata": {},
   "source": [
    "## Catalog adapter\n",
    "\n",
    "We'll start by connecting to the STAC catalog for `planet-disaster-data`. This catalog includes 5 sub-catalogs (know as Items in STAC language)"
   ]
  },
  {
   "cell_type": "code",
   "execution_count": null,
   "metadata": {},
   "outputs": [],
   "source": [
    "cat = StacCatalog('https://storage.googleapis.com/pdd-stac/disasters/catalog.json')\n",
    "display(list(cat))"
   ]
  },
  {
   "cell_type": "markdown",
   "metadata": {},
   "source": [
    "Catalogs include the STAC metadata:"
   ]
  },
  {
   "cell_type": "code",
   "execution_count": null,
   "metadata": {},
   "outputs": [],
   "source": [
    "pprint(cat.metadata)"
   ]
  },
  {
   "cell_type": "markdown",
   "metadata": {},
   "source": [
    "and the metadata from each Item is available:"
   ]
  },
  {
   "cell_type": "code",
   "execution_count": null,
   "metadata": {},
   "outputs": [],
   "source": [
    "cat['Houston-East-20170831-103f-100d-0f4f-RGB'].metadata"
   ]
  },
  {
   "cell_type": "markdown",
   "metadata": {},
   "source": [
    "The sub-catalogs can include an arbitrary number of assets:"
   ]
  },
  {
   "cell_type": "code",
   "execution_count": null,
   "metadata": {},
   "outputs": [],
   "source": [
    "list(cat['Houston-East-20170831-103f-100d-0f4f-RGB'])"
   ]
  },
  {
   "cell_type": "markdown",
   "metadata": {},
   "source": [
    "## GeoTIFF --> `xarray.DataArray`\n",
    "\n",
    "Using the intake-xarray plugin and xarray's rasterio integration, we can open GeoTIFF datasets remotely. "
   ]
  },
  {
   "cell_type": "code",
   "execution_count": null,
   "metadata": {},
   "outputs": [],
   "source": [
    "tif = cat['Houston-East-20170831-103f-100d-0f4f-RGB']['thumbnail']\n",
    "tiff_da = tif.to_dask()\n",
    "tiff_da"
   ]
  },
  {
   "cell_type": "code",
   "execution_count": null,
   "metadata": {},
   "outputs": [],
   "source": [
    "tiff_da.plot.imshow(rgb='channel')"
   ]
  },
  {
   "cell_type": "markdown",
   "metadata": {},
   "source": [
    "# Landsat Example\n",
    "\n",
    "A second example using the landsat archive. This is a much larger catalog than the Planet disasters so we'll skip ahead to a specific row/path. You could also point to the top level landsat-stac catalog but loading sub-catalogs will be pretty slow. We'll be looking into ways of optimizing this going forward.\n"
   ]
  },
  {
   "cell_type": "code",
   "execution_count": null,
   "metadata": {},
   "outputs": [],
   "source": [
    "landsat = StacCatalog('https://landsat-stac.s3.amazonaws.com/landsat-8-l1/011/031/catalog.json')"
   ]
  },
  {
   "cell_type": "code",
   "execution_count": null,
   "metadata": {},
   "outputs": [],
   "source": [
    "list(landsat)[:10]"
   ]
  },
  {
   "cell_type": "code",
   "execution_count": null,
   "metadata": {},
   "outputs": [],
   "source": [
    "list(landsat['LC80110312014230LGN00'])"
   ]
  },
  {
   "cell_type": "code",
   "execution_count": null,
   "metadata": {},
   "outputs": [],
   "source": [
    "tif = landsat['LC80110312014230LGN00.thumbnail']\n",
    "tiff_da = tif.to_dask()\n",
    "tiff_da"
   ]
  },
  {
   "cell_type": "code",
   "execution_count": null,
   "metadata": {},
   "outputs": [],
   "source": [
    "tiff_da.isel(x=slice(0, 600), y=slice(300, 900)).plot.imshow(rgb='channel')"
   ]
  },
  {
   "cell_type": "code",
   "execution_count": null,
   "metadata": {},
   "outputs": [],
   "source": []
  }
 ],
 "metadata": {
  "kernelspec": {
   "display_name": "Python 3",
   "language": "python",
   "name": "python3"
  },
  "language_info": {
   "codemirror_mode": {
    "name": "ipython",
    "version": 3
   },
   "file_extension": ".py",
   "mimetype": "text/x-python",
   "name": "python",
   "nbconvert_exporter": "python",
   "pygments_lexer": "ipython3",
   "version": "3.7.3"
  }
 },
 "nbformat": 4,
 "nbformat_minor": 2
}
